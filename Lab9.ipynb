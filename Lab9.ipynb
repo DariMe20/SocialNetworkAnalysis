{
 "cells": [
  {
   "cell_type": "markdown",
   "metadata": {},
   "source": [
    "# Assignment — Epidemic models"
   ]
  },
  {
   "cell_type": "code",
   "execution_count": null,
   "metadata": {},
   "outputs": [],
   "source": [
    "import matplotlib.pyplot as plt\n",
    "from tqdm.notebook import trange\n",
    "from zlib import adler32\n",
    "import networkx as nx\n",
    "import numpy as np"
   ]
  },
  {
   "cell_type": "markdown",
   "metadata": {},
   "source": [
    "### Task 1. Euler method (0 points)"
   ]
  },
  {
   "cell_type": "markdown",
   "metadata": {},
   "source": [
    "Euler method is a simple numerical procedure for solving ordinary differential equations (ODEs) with a given initial values.  For example, if we want to solve an equation\n",
    "\n",
    "$$dx/dt = \\sin(x)$$\n",
    "\n",
    "with initial value $x = x_0$, we can subtitute $dx = \\Delta x = x_{i+1} - x_{i}$ and $dt = \\Delta t$, therefore we obtain\n",
    "\n",
    "$$\\frac{x_{i+1} - x_i}{\\Delta t} = \\sin(x)$$ \n",
    "$$x_{i+1} = x_i + \\sin(x)\\Delta t$$\n",
    "\n",
    "Let $\\Delta t = 0.1$, and then we can solve the equation using this iterative form as follows"
   ]
  },
  {
   "cell_type": "code",
   "execution_count": null,
   "metadata": {},
   "outputs": [],
   "source": [
    "def solve_sinx(x0, dt, k):\n",
    "    x = x0\n",
    "    solution = [x0]\n",
    "    for _ in range(k):\n",
    "        dx = np.sin(x) * dt\n",
    "        x = x + dx\n",
    "        solution.append(x)\n",
    "    return solution"
   ]
  },
  {
   "cell_type": "code",
   "execution_count": null,
   "metadata": {},
   "outputs": [],
   "source": [
    "dt = 0.1\n",
    "for x0 in np.linspace(1, 12, 100):\n",
    "    solution = solve_sinx(x0, dt, 70)\n",
    "    plt.plot(solution, c='tab:blue', alpha=0.3);\n",
    "plt.xlabel('t')\n",
    "plt.ylabel('x')\n",
    "plt.show()"
   ]
  },
  {
   "cell_type": "markdown",
   "metadata": {},
   "source": [
    "Assume that we want to solve the famous chaotic Lorenz System:\n",
    "\n",
    "$$\n",
    "\\begin{cases}\n",
    "\\frac{dx}{dt} = \\sigma(y-x)\\\\\n",
    "\\frac{dy}{dt} = x(\\rho - z) - y\\\\\n",
    "\\frac{dz}{dt} = xy - \\beta z\\\\\n",
    "\\end{cases}\n",
    "$$\n",
    "\n",
    "with parameters $\\rho = 28$, $\\sigma = 10$, $\\beta = 8/3$ and initial values $x = y = z = 10$.\n",
    "\n",
    "Write a function `lorenz` that takes initial values, parameters, time increment `dt`, number of iterations `k` and returns np.array with solution of the form `[[x0, y0, z0], [x1, y1, z1], ...]` so that number of rows is `k+1`."
   ]
  },
  {
   "cell_type": "code",
   "execution_count": null,
   "metadata": {
    "deletable": false,
    "nbgrader": {
     "cell_type": "code",
     "checksum": "65d07739b04c26c05ceadb3840a858e8",
     "grade": false,
     "grade_id": "cell-eed3b935125812f1",
     "locked": false,
     "schema_version": 3,
     "solution": true,
     "task": false
    }
   },
   "outputs": [],
   "source": [
    "def lorenz(x0, y0, z0, rho, sigma, beta, dt, k):\n",
    "    # YOUR CODE HERE\n",
    "    raise NotImplementedError()"
   ]
  },
  {
   "cell_type": "code",
   "execution_count": null,
   "metadata": {
    "deletable": false,
    "editable": false,
    "nbgrader": {
     "cell_type": "code",
     "checksum": "0c25da2a1643a615f0da33c274b44973",
     "grade": true,
     "grade_id": "cell-06598fd0a7b7e4cf",
     "locked": true,
     "points": 0.0,
     "schema_version": 3,
     "solution": false,
     "task": false
    }
   },
   "outputs": [],
   "source": [
    "sim = lorenz(10., 10., 10., 28., 10., 8/3, 0.01, 8000-1)\n",
    "assert sim.shape == (8000, 3)\n",
    "assert np.all(sim[0] == [10, 10, 10])\n",
    "assert np.all(sim[1].round(2) == [10., 11.7, 10.73])\n",
    "assert np.all(sim[2].round(2) == [10.17, 13.31, 11.62])\n",
    "assert adler32(str(sim[3].round(2)[0]).encode()) == 48496892"
   ]
  },
  {
   "cell_type": "code",
   "execution_count": null,
   "metadata": {},
   "outputs": [],
   "source": [
    "fig = plt.figure(figsize=(8, 8))\n",
    "ax = plt.axes(projection='3d')\n",
    "xs, ys, zs = sim[:, 0], sim[:, 1], sim[:, 2]\n",
    "ax.plot(xs, ys, zs, lw=0.3)\n",
    "plt.title('Solution of the Lorenz System')\n",
    "ax.set_xlabel('x')\n",
    "ax.set_ylabel('y')\n",
    "ax.set_zlabel('z')\n",
    "plt.show()"
   ]
  },
  {
   "cell_type": "markdown",
   "metadata": {},
   "source": [
    "### Task 2. SI model (0 points)"
   ]
  },
  {
   "cell_type": "markdown",
   "metadata": {},
   "source": [
    "Consider a simple model of an epidemic — SI model. S — susceptible, I — infectious. Initialy we only have a few infected persons and all others are susceptible. Then some susceptible people become infected with infection rate $\\beta$. The model is defined as follows:\n",
    "\n",
    "Dynamic form\n",
    "\n",
    "$$S \\underset{\\beta \\frac{S}{N}I}{\\to} I$$\n",
    "\n",
    "Equation form\n",
    "\n",
    "$$\\frac{dI}{dt} = \\beta \\frac{S}{N}I$$\n",
    "\n",
    "$$S + I = N$$\n",
    "\n",
    "where $N$ is the total population.\n",
    "\n",
    "Write a function `si_epidemic` that takes the total population `total`, number of infected people `I0`, infected rate `beta`, time increment `dt`, number of iterations `k` and returns a returns np.array with solution of the form `[[S0, I0], [S1, I1], ...]` so that number of rows is k+1."
   ]
  },
  {
   "cell_type": "code",
   "execution_count": null,
   "metadata": {
    "deletable": false,
    "nbgrader": {
     "cell_type": "code",
     "checksum": "98e0c3bea693bf84a419664ec1bc43e8",
     "grade": false,
     "grade_id": "cell-e2b1ffa27b6efcb5",
     "locked": false,
     "schema_version": 3,
     "solution": true,
     "task": false
    }
   },
   "outputs": [],
   "source": [
    "def si_epidemic(total, I0, beta, dt, k):\n",
    "    # YOUR CODE HERE\n",
    "    raise NotImplementedError()"
   ]
  },
  {
   "cell_type": "code",
   "execution_count": null,
   "metadata": {
    "deletable": false,
    "editable": false,
    "nbgrader": {
     "cell_type": "code",
     "checksum": "5d0453dfd10d806d6aea276075cf36b7",
     "grade": true,
     "grade_id": "cell-e17107636e2ee9ea",
     "locked": true,
     "points": 0.0,
     "schema_version": 3,
     "solution": false,
     "task": false
    }
   },
   "outputs": [],
   "source": [
    "solution = si_epidemic(total=1000, I0=1, beta=0.3, dt=0.5, k=130-1)\n",
    "assert solution.shape == (130, 2)\n",
    "assert np.all(solution[0] == [999, 1])\n",
    "assert np.all(solution[10].round(2) == [995.97, 4.03])\n",
    "assert np.all(solution[-1].round(2) == [0, 1000])\n",
    "assert adler32(str(solution[100].round(2)[0]).encode()) == 32047304"
   ]
  },
  {
   "cell_type": "code",
   "execution_count": null,
   "metadata": {},
   "outputs": [],
   "source": [
    "plt.plot(solution)\n",
    "plt.legend(['S', 'I'])\n",
    "plt.title('SI model, infected rate is 0.3')\n",
    "plt.xlabel('time')\n",
    "plt.ylabel('population')\n",
    "plt.show()"
   ]
  },
  {
   "cell_type": "markdown",
   "metadata": {},
   "source": [
    "Let us look at the plot of epidemic dynamics with the same setup but $\\beta = 0.1$."
   ]
  },
  {
   "cell_type": "code",
   "execution_count": null,
   "metadata": {},
   "outputs": [],
   "source": [
    "solution = si_epidemic(total=1000, I0=1, beta=0.1, dt=0.5, k=130-1)\n",
    "plt.plot(solution)\n",
    "plt.legend(['S', 'I'])\n",
    "plt.title('SI model, infected rate is 0.1')\n",
    "plt.xlabel('time')\n",
    "plt.ylabel('population')\n",
    "plt.show()"
   ]
  },
  {
   "cell_type": "markdown",
   "metadata": {},
   "source": [
    "### Task 3. SIR model (0 points)"
   ]
  },
  {
   "cell_type": "markdown",
   "metadata": {},
   "source": [
    "The next model is SIR. S — susceptible, I — infectious, R — recovered people. Initialy we only have a few infected persons and others are susceptible. Then some susceptible people become infected with infection rate $\\beta$ and some infected people recover with recovery rate $\\gamma$. There is no chance to infect after recovering. The model is defined as follows:\n",
    "\n",
    "Dynamic form\n",
    "\n",
    "$$S \\underset{\\beta SI}{\\to} I \\underset{\\gamma I}{\\to} R$$\n",
    "\n",
    "Equation form (in proportions of the population)\n",
    "\n",
    "$$\\begin{cases}\n",
    "ds/dt = -\\beta si\\\\\n",
    "di/dt = \\beta si - \\gamma i\\\\\n",
    "dr/dt = \\gamma i\\\\\n",
    "s+i+r = 1\n",
    "\\end{cases}$$\n",
    "\n",
    "Write a function `sir_epidemic` that takes an initial proportion `s0`, `i0`, `r0`, infection rate `beta`, recovery rate `gamma`, a number of steps `k` and time increment `dt`. The function returns np.array of shape `(k+1, 3)` with `s`, `i`, `r` proportion in each step. The first row contains an initial proportion."
   ]
  },
  {
   "cell_type": "code",
   "execution_count": null,
   "metadata": {
    "deletable": false,
    "nbgrader": {
     "cell_type": "code",
     "checksum": "d6f79dcf0fdad5c4a3f1c2d6158c80d8",
     "grade": false,
     "grade_id": "cell-d04d4c7e210cc9b4",
     "locked": false,
     "schema_version": 3,
     "solution": true,
     "task": false
    }
   },
   "outputs": [],
   "source": [
    "def sir_epidemic(s0, i0, r0, beta, gamma, k, dt):\n",
    "    # YOUR CODE HERE\n",
    "    raise NotImplementedError()"
   ]
  },
  {
   "cell_type": "code",
   "execution_count": null,
   "metadata": {
    "deletable": false,
    "editable": false,
    "nbgrader": {
     "cell_type": "code",
     "checksum": "30228984c9b28cd1ffa2e1212681f842",
     "grade": true,
     "grade_id": "cell-ba03ef4271e82af1",
     "locked": true,
     "points": 0.0,
     "schema_version": 3,
     "solution": false,
     "task": false
    }
   },
   "outputs": [],
   "source": [
    "s0, i0, r0 = 0.99, 0.01, 0\n",
    "beta, gamma = 0.6, 0.1\n",
    "dt = 1\n",
    "epidemic = sir_epidemic(s0, i0, r0, beta, gamma, 80, dt)\n",
    "assert epidemic.shape == (81, 3)\n",
    "assert np.all(epidemic[0] == [0.99, 0.01, 0.  ])\n",
    "assert np.all(epidemic[5].round(2) == [0.92, 0.07, 0.01])\n",
    "assert np.all(epidemic[80].round(2) == [0, 0, 1])\n",
    "assert adler32(str(epidemic[10].round(2)[1]).encode()) == 32112840"
   ]
  },
  {
   "cell_type": "markdown",
   "metadata": {},
   "source": [
    "Here is also the critical point for a basic reproduction number $R_0 = \\beta / \\gamma$\n",
    "\n",
    "* If $R_0 > 1$: Endemic State,  $r(+\\infty) \\to 1$\n",
    "* If $R_0 < 1$: Disease-free State, $r(+\\infty) \\to \\text{const}$\n",
    "\n",
    "where $r(t)$ is the share of recovered people at the time moment $t$."
   ]
  },
  {
   "cell_type": "code",
   "execution_count": null,
   "metadata": {},
   "outputs": [],
   "source": [
    "plt.plot(epidemic)\n",
    "plt.legend(['S', 'I', 'R']);\n",
    "plt.title('SIR model, Endemic State, R_0 is {:.2f}'.format(beta/gamma))\n",
    "plt.xlabel('time')\n",
    "plt.ylabel('proportion')\n",
    "plt.show()"
   ]
  },
  {
   "cell_type": "code",
   "execution_count": null,
   "metadata": {},
   "outputs": [],
   "source": [
    "s0, i0, r0 = 0.7, 0.3, 0.\n",
    "dt = 1\n",
    "beta, gamma = 0.1, 0.3\n",
    "epidemic = sir_epidemic(s0, i0, r0, beta, gamma, 80, dt)\n",
    "plt.plot(epidemic)\n",
    "plt.legend(['S', 'I', 'R']);\n",
    "plt.title('SIR model, Disease-free State, R_0 is {:.2f}'.format(beta/gamma))\n",
    "plt.xlabel('time')\n",
    "plt.ylabel('proportion')\n",
    "plt.show()"
   ]
  },
  {
   "cell_type": "markdown",
   "metadata": {},
   "source": [
    "### Task 4. Fitting SIR model (2 points)"
   ]
  },
  {
   "cell_type": "markdown",
   "metadata": {},
   "source": [
    "Let us numerically estimate parameters of SIR model. First of all, implement SIR model. You can copy-paste it from the SIR model task."
   ]
  },
  {
   "cell_type": "code",
   "execution_count": null,
   "metadata": {
    "deletable": false,
    "nbgrader": {
     "cell_type": "code",
     "checksum": "a329cd7cdbf324068e1021431390a0dc",
     "grade": false,
     "grade_id": "cell-9fb8ba2cf682f0bb",
     "locked": false,
     "schema_version": 3,
     "solution": true,
     "task": false
    }
   },
   "outputs": [],
   "source": [
    "def sir_epidemic(s0, i0, r0, beta, gamma, k, dt):\n",
    "    # YOUR CODE HERE\n",
    "    raise NotImplementedError()"
   ]
  },
  {
   "cell_type": "markdown",
   "metadata": {},
   "source": [
    "In the current task we will define two functions: `sir_error` and `fit_sir`. The first one estimates the RMSE error between real data and SIR model. The second one minimizes the error and returns the best parameters `beta` and `gamma` for SIR model.\n",
    "\n",
    "Write a function `sir_error` that takes SIR parameters and the data of the form `[[s0, i0, r0], [s1, i1, r2], ...]`. It returns RMSE error between I in the data and I from the model. Initial values of SIR are first values in the data."
   ]
  },
  {
   "cell_type": "code",
   "execution_count": null,
   "metadata": {
    "deletable": false,
    "nbgrader": {
     "cell_type": "code",
     "checksum": "9d934647f8bd050921b28db723b34c3b",
     "grade": false,
     "grade_id": "cell-5e3467572171be80",
     "locked": false,
     "schema_version": 3,
     "solution": true,
     "task": false
    }
   },
   "outputs": [],
   "source": [
    "def sir_error(beta, gamma, dt, data):\n",
    "    # YOUR CODE HERE\n",
    "    raise NotImplementedError()"
   ]
  },
  {
   "cell_type": "code",
   "execution_count": null,
   "metadata": {
    "deletable": false,
    "editable": false,
    "nbgrader": {
     "cell_type": "code",
     "checksum": "8b01a7f4726f45a1aa11f2ff3b10a535",
     "grade": true,
     "grade_id": "cell-0888a0fec0a20410",
     "locked": true,
     "points": 1.0,
     "schema_version": 3,
     "solution": false,
     "task": false
    }
   },
   "outputs": [],
   "source": [
    "data = np.array([\n",
    "    [0.999, 0.001, 0.000],\n",
    "    [0.996, 0.002, 0.002],\n",
    "    [0.990, 0.004, 0.006],\n",
    "])\n",
    "assert round(sir_error(beta=0.3, gamma=0.2, dt=1, data=data), 4) == 0.0017\n",
    "assert round(sir_error(beta=0.3, gamma=0.2, dt=0.1, data=data), 4) == 0.0018"
   ]
  },
  {
   "cell_type": "markdown",
   "metadata": {},
   "source": [
    "Write a function `fit_sir` that takes the data of the form `[[s0, i0, r0], [s1, i1, r2], ...]`, dt and initial SIR parameters `beta0` and `gamma0`. It fit parameters minimizing `sir_error` and returns the best beta and gamma. You can use any available numerical optmizers such as L-BFGS-B in `scipy.optimize.minimize`."
   ]
  },
  {
   "cell_type": "code",
   "execution_count": null,
   "metadata": {
    "deletable": false,
    "nbgrader": {
     "cell_type": "code",
     "checksum": "d0ed18101f3d25e3fd9eaddd3ca85c57",
     "grade": false,
     "grade_id": "cell-dc00b115b0ea756d",
     "locked": false,
     "schema_version": 3,
     "solution": true,
     "task": false
    }
   },
   "outputs": [],
   "source": [
    "def fit_sir(data, dt, beta0, gamma0):\n",
    "    # YOUR CODE HERE\n",
    "    raise NotImplementedError()"
   ]
  },
  {
   "cell_type": "code",
   "execution_count": null,
   "metadata": {
    "deletable": false,
    "editable": false,
    "nbgrader": {
     "cell_type": "code",
     "checksum": "51f3d1c36ed2e82dd14e124fdb768aa1",
     "grade": true,
     "grade_id": "cell-5f7e9336e8a27dac",
     "locked": true,
     "points": 1.0,
     "schema_version": 3,
     "solution": false,
     "task": false
    }
   },
   "outputs": [],
   "source": [
    "dt = 0.5\n",
    "data = sir_epidemic(s0=0.99, i0=0.01, r0=0.00, beta=0.7, gamma=0.1, k=100, dt=dt)\n",
    "beta, gamma = fit_sir(data[:10], dt=dt, beta0=0.001, gamma0=0.001)\n",
    "assert sir_error(beta, gamma, dt, data) < 0.00001"
   ]
  },
  {
   "cell_type": "markdown",
   "metadata": {},
   "source": [
    "Now let us simulate an epidemic with some noise and see how the epidemic forecasting changes with respect to the length of train period."
   ]
  },
  {
   "cell_type": "code",
   "execution_count": null,
   "metadata": {},
   "outputs": [],
   "source": [
    "np.random.seed(0)\n",
    "dt = 0.5\n",
    "data = sir_epidemic(s0=0.99, i0=0.01, r0=0.00, beta=0.7, gamma=0.1, k=100, dt=dt)\n",
    "data = data + np.random.randn(*data.shape) * 0.01\n",
    "for train_len in [10, 20, 30]:\n",
    "    beta, gamma = fit_sir(data[:train_len], dt=dt, beta0=0.001, gamma0=0.001)\n",
    "    fitted_sir = sir_epidemic(s0=0.99, i0=0.01, r0=0.00, beta=beta, gamma=gamma, k=100, dt=dt)\n",
    "    plt.scatter(np.arange(data.shape[0]), data[:, 1], s=5, label='Infected in the data')\n",
    "    plt.plot(fitted_sir[:, 1], label='Fitted infected', color='tab:green')\n",
    "    plt.vlines(train_len, 0, 1, linestyles='--', color='gray', label='The end of the train period')\n",
    "    plt.legend()\n",
    "    plt.title(f'Forecast on first {train_len} observations')\n",
    "    plt.show()"
   ]
  },
  {
   "cell_type": "markdown",
   "metadata": {},
   "source": [
    "### Task 5. SIS on networks (0 points)"
   ]
  },
  {
   "cell_type": "markdown",
   "metadata": {},
   "source": [
    "Let us consider epidemic models on networks. SIS model is described by a dynamic form\n",
    "\n",
    "$$S \\to_{\\beta SI} I \\to_{\\gamma I} S$$\n",
    "\n",
    "To model epidemics on networks, we need to use probabilistic approach. First, let us define a function that gives us a random sample of available nodes by given probability.\n",
    "\n",
    "Here is a function `select_nodes` that takes a np.array `vec`, where an i-th element is a number of neighbors that can affect to i-th node with probability `proba`. For example, `vec` can represent the number of infected neighbors, say [0, 2, 1] and then the probability is an infected rate $\\beta$. That means the first node has no infected neighbors, the second has two infected neighbors, the third has one infected neighbor. Thereby, the second node has a $(1 - (1-\\beta)^2)$ probability of getting infected."
   ]
  },
  {
   "cell_type": "code",
   "execution_count": null,
   "metadata": {},
   "outputs": [],
   "source": [
    "def select_nodes(vec, proba):\n",
    "    sample = np.random.rand(len(vec))\n",
    "    res = sample < (1 - (1 - proba)**vec)\n",
    "    return res.astype('int')"
   ]
  },
  {
   "cell_type": "markdown",
   "metadata": {},
   "source": [
    "Let us infect a few random nodes and simulate a propogation of an epidemic.\n",
    "\n",
    "Write a function `sis_networks` that takes a graph `G`, np.array with an initial indicator vector `S` where `S[i]` is 1 if i-th node is susceptible and 0 otherwise (the same for `I`). Any node must be susceptible or infected at any step. Also the function takes rates `beta`, `gamma`, number of steps `k`. The function returns a np.array of shape `(k+1, 2, n)` where `n` is a number of nodes. At i-th step, the matrix `result[i, :, :]` contains indicator `S` in the first column and `I` in the second.\n",
    "\n",
    "_Hint: to calculate the number of infected neighbors, use `I @ A * S`_"
   ]
  },
  {
   "cell_type": "code",
   "execution_count": null,
   "metadata": {
    "deletable": false,
    "nbgrader": {
     "cell_type": "code",
     "checksum": "e2ba308354e47b60dfab4f0157cd6086",
     "grade": false,
     "grade_id": "cell-ef6a0916349c86dd",
     "locked": false,
     "schema_version": 3,
     "solution": true,
     "task": false
    }
   },
   "outputs": [],
   "source": [
    "def sis_networks(G, S, I, beta, gamma, k):\n",
    "    # YOUR CODE HERE\n",
    "    raise NotImplementedError()"
   ]
  },
  {
   "cell_type": "code",
   "execution_count": null,
   "metadata": {
    "deletable": false,
    "editable": false,
    "nbgrader": {
     "cell_type": "code",
     "checksum": "b5f18dda0d3106e203751b415f708196",
     "grade": true,
     "grade_id": "cell-5cf71c10ff7077f8",
     "locked": true,
     "points": 0.0,
     "schema_version": 3,
     "solution": false,
     "task": false
    }
   },
   "outputs": [],
   "source": [
    "G = nx.barabasi_albert_graph(30, 2, seed=0)\n",
    "\n",
    "I = np.zeros(len(G))\n",
    "I[:3] = 1\n",
    "S = 1 - I\n",
    "beta = 0.2\n",
    "gamma = 0.2\n",
    "\n",
    "epidemic = sis_networks(G, S, I, beta, gamma, 100)\n",
    "assert epidemic.sum() == 3030\n",
    "assert epidemic.shape == (101, 2, 30)\n",
    "assert (epidemic.sum(axis=1) == 1).sum() == 3030\n",
    "assert 8.2271 < round(epidemic.sum(axis=2)[:, 0].mean(), 4) < 15.8452\n",
    "assert 14.2177 < round(epidemic.sum(axis=2)[:, 1].mean(), 4) < 21.7279"
   ]
  },
  {
   "cell_type": "code",
   "execution_count": null,
   "metadata": {},
   "outputs": [],
   "source": [
    "epidemic = sis_networks(\n",
    "    G, S, I, beta=0.1, gamma=0.05, k=100)\n",
    "plt.plot(epidemic.sum(axis=2))\n",
    "plt.title('SIS dynamic')\n",
    "plt.legend(['S', 'I']);"
   ]
  },
  {
   "cell_type": "code",
   "execution_count": null,
   "metadata": {},
   "outputs": [],
   "source": [
    "plt.figure(figsize=(7*2, 5*3))\n",
    "pos = nx.kamada_kawai_layout(G)\n",
    "i = 1\n",
    "for S, I in epidemic[:6]:\n",
    "    plt.subplot(3, 2, i)\n",
    "    nodes = nx.draw_networkx_nodes(G, pos, \n",
    "            node_size=400,\n",
    "            node_color=I+1, \n",
    "            vmin=0, vmax=2, \n",
    "            cmap=plt.cm.rainbow,\n",
    "            edgecolors='black')\n",
    "    nx.draw_networkx_edges(G, pos,\n",
    "            width=0.5,\n",
    "            node_size=400)\n",
    "    nx.draw_networkx_labels(G, pos)\n",
    "    plt.title('Step {}'.format(i))\n",
    "    plt.legend(nodes.legend_elements()[0], ['Susceptible', 'Infected'])\n",
    "    plt.axis('off')\n",
    "    i += 1"
   ]
  },
  {
   "cell_type": "markdown",
   "metadata": {},
   "source": [
    "### Task 6. SIRS on networks (2 points)"
   ]
  },
  {
   "cell_type": "markdown",
   "metadata": {},
   "source": [
    "Let us implement SIRS node-level model\n",
    "$$S \\to_{\\beta SI} I \\to_{\\gamma I} R \\to_{\\delta R} S$$\n",
    "\n",
    "Write a function `sirs_networks` that takes a graph `G`, np.array with initial indicator `S` where `S[i]` is 1 if i-th node is susceptible and 0 otherwise (the same for `I` and `R`). Also the function takes rates `beta`, `gamma`, `delta`, number of steps `k`. The function returns a np.array of shape `(k+1, 3, n)` where `n` is a number of nodes. At i-th step, the matrix `result[i, :, :]` contains indicator `S` in the first column, `I` in the second, `R` in the third."
   ]
  },
  {
   "cell_type": "code",
   "execution_count": null,
   "metadata": {
    "deletable": false,
    "nbgrader": {
     "cell_type": "code",
     "checksum": "b6363c1341ac751bb4b138825869590a",
     "grade": false,
     "grade_id": "cell-019204d21b0147e4",
     "locked": false,
     "schema_version": 3,
     "solution": true,
     "task": false
    }
   },
   "outputs": [],
   "source": [
    "def sirs_networks(G, S, I, R, beta, gamma, delta, k):\n",
    "    # YOUR CODE HERE\n",
    "    raise NotImplementedError()"
   ]
  },
  {
   "cell_type": "code",
   "execution_count": null,
   "metadata": {
    "deletable": false,
    "editable": false,
    "nbgrader": {
     "cell_type": "code",
     "checksum": "f564c5285f491d51a5fdf1ded5c93c79",
     "grade": true,
     "grade_id": "cell-09257c476b1763a0",
     "locked": true,
     "points": 2.0,
     "schema_version": 3,
     "solution": false,
     "task": false
    }
   },
   "outputs": [],
   "source": [
    "G = nx.barabasi_albert_graph(30, 2, seed=0)\n",
    "I = np.zeros(len(G))\n",
    "I[:3] = 1\n",
    "S = 1 - I\n",
    "R = np.zeros(len(G))\n",
    "\n",
    "epidemic = sirs_networks(G, S, I, R, beta=0.1, gamma=0.05, delta=0.01, k=1000)\n",
    "assert epidemic.shape == (1001, 3, 30)\n",
    "assert (epidemic.sum(axis=1) == 1).sum() == 1001 * 30\n",
    "assert np.all(epidemic[0].sum(axis=1) == (27, 3, 0))\n",
    "assert np.all(epidemic[-1].sum(axis=1) == (30, 0, 0))\n",
    "assert epidemic[0:20, 2].sum() > 0\n",
    "\n",
    "for k in range(6):\n",
    "    for node in G.nodes:\n",
    "        if epidemic[k, 0, node] > epidemic[k+1, 0, node]:\n",
    "            assert epidemic[k+1, 1, node] == 1\n",
    "            neighbors = np.array([n for n in G.neighbors(node)])\n",
    "            assert epidemic[k, 1][neighbors].sum()\n",
    "        elif epidemic[k, 1, node] > epidemic[k+1, 1, node]:\n",
    "            assert epidemic[k+1, 2, node] == 1\n",
    "        elif epidemic[k, 2, node] > epidemic[k+1, 2, node]:\n",
    "            assert epidemic[k+1, 0, node] == 1"
   ]
  },
  {
   "cell_type": "code",
   "execution_count": null,
   "metadata": {},
   "outputs": [],
   "source": [
    "epidemic = sirs_networks(\n",
    "    G, S, I, R, beta=0.05, gamma=0.03, delta=0.01, k=500)\n",
    "plt.plot(epidemic.sum(axis=2))\n",
    "plt.title('SIRS dynamic')\n",
    "plt.legend(['S', 'I', 'R']);"
   ]
  },
  {
   "cell_type": "code",
   "execution_count": null,
   "metadata": {},
   "outputs": [],
   "source": [
    "epidemic = sirs_networks(\n",
    "    G, S, I, R, beta=0.5, gamma=0.3, delta=0.1, k=6)\n",
    "plt.figure(figsize=(7*2, 5*3))\n",
    "pos = nx.kamada_kawai_layout(G)\n",
    "i = 1\n",
    "for S, I, R in epidemic[:6]:\n",
    "    plt.subplot(3, 2, i)\n",
    "    nodes = nx.draw_networkx_nodes(G, pos, \n",
    "            node_size=400,\n",
    "            node_color=(S + I*2), \n",
    "            vmin=0, vmax=2, \n",
    "            cmap=plt.cm.rainbow,\n",
    "            edgecolors='black')\n",
    "    nx.draw_networkx_edges(G, pos,\n",
    "            width=0.5,\n",
    "            node_size=400)\n",
    "    nx.draw_networkx_labels(G, pos)\n",
    "    plt.title('Step {}'.format(i))\n",
    "    if len(nodes.legend_elements()[0]) == 2:\n",
    "        plt.legend(\n",
    "            nodes.legend_elements()[0], \n",
    "            ['Susceptible', 'Infected'])\n",
    "    else:\n",
    "        plt.legend(\n",
    "            nodes.legend_elements()[0], \n",
    "            ['Recovered', 'Susceptible', 'Infected'])\n",
    "    plt.axis('off')\n",
    "    i += 1"
   ]
  },
  {
   "cell_type": "markdown",
   "metadata": {},
   "source": [
    "### Task 7. Random immunization in SIS (2 points)"
   ]
  },
  {
   "cell_type": "markdown",
   "metadata": {},
   "source": [
    "Immunization strategies specify how vaccines, treatments or drugs are distributed in the population. Ideally, should a treatment or vaccine exist, it should be given to every infected individual or those at risk of contracting the pathogen. However, it is costly to vaccinate all risky people. Given these constraints, immunization strategies aim to minimize the threat of a pandemic by most effectively distributing the available vaccines or treatments. Let us see how different vaccination strategies affect epidemics under SIS model on netwoks.\n",
    "\n",
    "Random immunization in the network means isolation of randomly selected nodes, that is removing all their adjacent edges. Write a function `random_immunization_sis` that takes the share of immunized nodes `share`, parameters of SIS model and returns a tuple:\n",
    "* list of immune nodes\n",
    "* SIS model output\n",
    "\n",
    "Do not change the input graph."
   ]
  },
  {
   "cell_type": "code",
   "execution_count": null,
   "metadata": {
    "deletable": false,
    "nbgrader": {
     "cell_type": "code",
     "checksum": "ac6f7d123f8a861efd5bef6556591aaf",
     "grade": false,
     "grade_id": "cell-bc1bec0a8c4d951e",
     "locked": false,
     "schema_version": 3,
     "solution": true,
     "task": false
    }
   },
   "outputs": [],
   "source": [
    "def random_immunization_sis(G, S, I, share, beta, gamma, k):\n",
    "    # YOUR CODE HERE\n",
    "    raise NotImplementedError()"
   ]
  },
  {
   "cell_type": "code",
   "execution_count": null,
   "metadata": {
    "deletable": false,
    "editable": false,
    "nbgrader": {
     "cell_type": "code",
     "checksum": "f7630d10f3622b2282068a916edf4190",
     "grade": true,
     "grade_id": "cell-9f4b83c197371ffc",
     "locked": true,
     "points": 2.0,
     "schema_version": 3,
     "solution": false,
     "task": false
    }
   },
   "outputs": [],
   "source": [
    "G = nx.barabasi_albert_graph(30, 2, seed=0)\n",
    "I = np.zeros(len(G))\n",
    "I[:5] = 1\n",
    "S = 1 - I\n",
    "immune_nodes, epidemic = random_immunization_sis(\n",
    "    G, S, I, share=1.0, beta=0.2, gamma=0.1, k=1)\n",
    "assert G.number_of_edges() == 56\n",
    "assert immune_nodes.shape[0] == 30\n",
    "immune_nodes, epidemic = random_immunization_sis(\n",
    "    G, S, I, share=0.0, beta=0.2, gamma=0.1, k=1)\n",
    "assert immune_nodes.shape[0] == 0\n",
    "unique_nodes = set()\n",
    "for _ in range(100):\n",
    "    immune_nodes, epidemic = random_immunization_sis(\n",
    "        G, S, I, share=0.1, beta=0.2, gamma=0.1, k=1)\n",
    "    unique_nodes = unique_nodes.union(immune_nodes)\n",
    "assert len(unique_nodes) == 30\n",
    "G = nx.complete_graph(4)\n",
    "I = np.array([1, 0, 0, 0])\n",
    "S = 1 - I\n",
    "n_infected = []\n",
    "for _ in range(100):\n",
    "    immune_nodes, epidemic = random_immunization_sis(\n",
    "        G, S, I, share=0.25, beta=1.0, gamma=0.0, k=1)\n",
    "    if 0 in immune_nodes:\n",
    "        assert epidemic[-1, 1].sum() == 1\n",
    "    else:\n",
    "        assert epidemic[-1, 1].sum() == 3"
   ]
  },
  {
   "cell_type": "markdown",
   "metadata": {},
   "source": [
    "Let us see how the random immunization works on networks."
   ]
  },
  {
   "cell_type": "code",
   "execution_count": null,
   "metadata": {},
   "outputs": [],
   "source": [
    "G = nx.barabasi_albert_graph(30, 2, seed=0)\n",
    "I = np.zeros(len(G))\n",
    "I[:5] = 1\n",
    "S = 1 - I\n",
    "immune_nodes, epidemic = random_immunization_sis(\n",
    "    G, S, I, share=0.1, beta=0.2, gamma=0.1, k=6)\n",
    "plt.figure(figsize=(7*2, 5*3))\n",
    "pos = nx.kamada_kawai_layout(G)\n",
    "i = 1\n",
    "for S_i, I_i in epidemic[:6]:\n",
    "    colors = I_i + 1\n",
    "    colors[immune_nodes] = -1\n",
    "    plt.subplot(3, 2, i)\n",
    "    nodes = nx.draw_networkx_nodes(G, pos, \n",
    "            node_size=400,\n",
    "            node_color=colors, \n",
    "            vmin=0, vmax=2, \n",
    "            cmap=plt.cm.rainbow,\n",
    "            edgecolors='black')\n",
    "    nx.draw_networkx_edges(G, pos,\n",
    "            width=0.5,\n",
    "            node_size=400)\n",
    "    nx.draw_networkx_labels(G, pos)\n",
    "    plt.title('Step {}'.format(i))\n",
    "    plt.legend(nodes.legend_elements()[0], ['Immune', 'Susceptible', 'Infected'])\n",
    "    plt.axis('off')\n",
    "    i += 1"
   ]
  },
  {
   "cell_type": "code",
   "execution_count": null,
   "metadata": {},
   "outputs": [],
   "source": [
    "plt.figure(figsize=(6*2, 4*2))\n",
    "plt.subplots_adjust(hspace=0.3)\n",
    "G = nx.barabasi_albert_graph(100, 2, seed=0)\n",
    "I = np.zeros(len(G))\n",
    "I[:20] = 1\n",
    "S = 1 - I\n",
    "i = 1\n",
    "for share in np.linspace(0, 1, 4):\n",
    "    plt.subplot(2, 2, i)\n",
    "    i += 1\n",
    "    immune, epidemic = random_immunization_sis(\n",
    "        G, S, I, share, beta=0.15, gamma=0.1, k=100)\n",
    "    plt.plot(epidemic.mean(axis=2))\n",
    "    plt.title(f\"SIS random immunization with rate {share:.2f}\")\n",
    "    plt.legend(['S', 'I'])\n",
    "    plt.ylim(0, 1)"
   ]
  },
  {
   "cell_type": "markdown",
   "metadata": {},
   "source": [
    "### Task 8. Selective immunization in SIS (2 points)"
   ]
  },
  {
   "cell_type": "markdown",
   "metadata": {},
   "source": [
    "Selective immunization is a strategy to select some important nodes to be vaccinated. Let they be nodes with highest degree.\n",
    "\n",
    "Selective immunization in the network means isolation of highest degree nodes, that is removing all their adjacent edges. Write a function `selective_immunization_sis` that takes the share of immunized nodes `share`, parameters of SIS model and returns a tuple:\n",
    "* list of immune nodes\n",
    "* SIS model output\n",
    "\n",
    "Do not change the input graph."
   ]
  },
  {
   "cell_type": "code",
   "execution_count": null,
   "metadata": {
    "deletable": false,
    "nbgrader": {
     "cell_type": "code",
     "checksum": "5f3411cb9387db4fe55fb203c3c6fadc",
     "grade": false,
     "grade_id": "cell-d820db5de6d03db3",
     "locked": false,
     "schema_version": 3,
     "solution": true,
     "task": false
    }
   },
   "outputs": [],
   "source": [
    "def selective_immunization_sis(G, S, I, share, beta, gamma, k):\n",
    "    # YOUR CODE HERE\n",
    "    raise NotImplementedError()"
   ]
  },
  {
   "cell_type": "code",
   "execution_count": null,
   "metadata": {
    "deletable": false,
    "editable": false,
    "nbgrader": {
     "cell_type": "code",
     "checksum": "899f3562bdf70841d38f48a041c761ee",
     "grade": true,
     "grade_id": "cell-de06ac7069acd130",
     "locked": true,
     "points": 2.0,
     "schema_version": 3,
     "solution": false,
     "task": false
    }
   },
   "outputs": [],
   "source": [
    "G = nx.barabasi_albert_graph(30, 2, seed=0)\n",
    "I = np.zeros(len(G))\n",
    "I[:5] = 1\n",
    "S = 1 - I\n",
    "immune_nodes, epidemic = selective_immunization_sis(\n",
    "    G, S, I, share=0.5, beta=0.2, gamma=0.1, k=1)\n",
    "assert G.number_of_edges() == 56\n",
    "assert immune_nodes.shape[0] == 15\n",
    "assert np.sum(sorted(nx.to_numpy_array(G).sum(axis=1), reverse=True)[:15]) \\\n",
    "    == nx.to_numpy_array(G)[immune_nodes].sum()"
   ]
  },
  {
   "cell_type": "markdown",
   "metadata": {},
   "source": [
    "Let us see how the selective immunization works on networks."
   ]
  },
  {
   "cell_type": "code",
   "execution_count": null,
   "metadata": {},
   "outputs": [],
   "source": [
    "G = nx.barabasi_albert_graph(30, 2, seed=0)\n",
    "I = np.zeros(len(G))\n",
    "I[:5] = 1\n",
    "S = 1 - I\n",
    "immune_nodes, epidemic = selective_immunization_sis(\n",
    "    G, S, I, share=0.1, beta=0.2, gamma=0.1, k=6)\n",
    "plt.figure(figsize=(7*2, 5*3))\n",
    "pos = nx.kamada_kawai_layout(G)\n",
    "i = 1\n",
    "for S_i, I_i in epidemic[:6]:\n",
    "    colors = I_i + 1\n",
    "    colors[immune_nodes] = -1\n",
    "    plt.subplot(3, 2, i)\n",
    "    nodes = nx.draw_networkx_nodes(G, pos, \n",
    "            node_size=400,\n",
    "            node_color=colors, \n",
    "            vmin=0, vmax=2, \n",
    "            cmap=plt.cm.rainbow,\n",
    "            edgecolors='black')\n",
    "    nx.draw_networkx_edges(G, pos,\n",
    "            width=0.5,\n",
    "            node_size=400)\n",
    "    nx.draw_networkx_labels(G, pos)\n",
    "    plt.title('Step {}'.format(i))\n",
    "    plt.legend(nodes.legend_elements()[0], ['Immune', 'Susceptible', 'Infected'])\n",
    "    plt.axis('off')\n",
    "    i += 1"
   ]
  },
  {
   "cell_type": "code",
   "execution_count": null,
   "metadata": {},
   "outputs": [],
   "source": [
    "plt.figure(figsize=(6*2, 4*2))\n",
    "plt.subplots_adjust(hspace=0.3)\n",
    "G = nx.barabasi_albert_graph(100, 2, seed=0)\n",
    "I = np.zeros(len(G))\n",
    "I[:20] = 1\n",
    "S = 1 - I\n",
    "i = 1\n",
    "for share in np.linspace(0, 1, 4):\n",
    "    plt.subplot(2, 2, i)\n",
    "    i += 1\n",
    "    immune, epidemic = selective_immunization_sis(\n",
    "        G, S, I, share, beta=0.15, gamma=0.1, k=100)\n",
    "    plt.plot(epidemic.mean(axis=2))\n",
    "    plt.title(f\"SIS selective immunization with rate {share:.2f}\")\n",
    "    plt.legend(['S', 'I'])\n",
    "    plt.ylim(0, 1)"
   ]
  },
  {
   "cell_type": "markdown",
   "metadata": {},
   "source": [
    "### Task 9. Self-isolation strategy in SIS (2 points)"
   ]
  },
  {
   "cell_type": "markdown",
   "metadata": {},
   "source": [
    "Self-isolation is close to the random immunization — we make some individuals invisible to the virus for a period.\n",
    "\n",
    "Self-isolation in the network means isolation of some random nodes, that is removing all their adjacent edges for a period and then recover deleted edges. Write a function `self_isolation_sis` that takes the share of nodes `share`, period of self-isolation `period`, parameters of SIS model and returns a tuple:\n",
    "* list of self-isolated nodes\n",
    "* SIS model output\n",
    "\n",
    "Do not change the input graph."
   ]
  },
  {
   "cell_type": "code",
   "execution_count": null,
   "metadata": {
    "deletable": false,
    "nbgrader": {
     "cell_type": "code",
     "checksum": "dd947c8926453847904b966233fcc4b7",
     "grade": false,
     "grade_id": "cell-6a99af1318fc0cd5",
     "locked": false,
     "schema_version": 3,
     "solution": true,
     "task": false
    }
   },
   "outputs": [],
   "source": [
    "def self_isolation_sis(G, S, I, share, period, beta, gamma, k):\n",
    "    # YOUR CODE HERE\n",
    "    raise NotImplementedError()"
   ]
  },
  {
   "cell_type": "code",
   "execution_count": null,
   "metadata": {
    "deletable": false,
    "editable": false,
    "nbgrader": {
     "cell_type": "code",
     "checksum": "9aa71f8d8eab4eb6b1496694f51c0c29",
     "grade": true,
     "grade_id": "cell-a88e64365d7f1c0c",
     "locked": true,
     "points": 2.0,
     "schema_version": 3,
     "solution": false,
     "task": false
    }
   },
   "outputs": [],
   "source": [
    "G = nx.barabasi_albert_graph(30, 2, seed=0)\n",
    "I = np.zeros(len(G))\n",
    "I[:5] = 1\n",
    "S = 1 - I\n",
    "immune_nodes, epidemic = self_isolation_sis(\n",
    "    G, S, I, share=0.5, period=10, beta=0.2, gamma=0.1, k=100)\n",
    "assert G.number_of_edges() == 56\n",
    "assert immune_nodes.shape[0] == 15\n",
    "assert epidemic.shape == (101, 2, 30)\n",
    "epidemic_i = epidemic[:, 1].sum(axis=1)\n",
    "assert epidemic_i[:11].mean() * 2 < epidemic_i[12:].mean()"
   ]
  },
  {
   "cell_type": "code",
   "execution_count": null,
   "metadata": {},
   "outputs": [],
   "source": [
    "G = nx.barabasi_albert_graph(30, 2, seed=0)\n",
    "I = np.zeros(len(G))\n",
    "I[:5] = 1\n",
    "S = 1 - I\n",
    "immune_nodes, epidemic = self_isolation_sis(\n",
    "    G, S, I, share=0.3, period=2, beta=0.2, gamma=0.1, k=6)\n",
    "plt.figure(figsize=(7*2, 5*3))\n",
    "pos = nx.kamada_kawai_layout(G)\n",
    "i = 1\n",
    "for step, (S, I) in enumerate(epidemic[:6]):\n",
    "    colors = I + 1\n",
    "    legend = ['Susceptible', 'Infected']\n",
    "    if step < 3:\n",
    "        colors[immune_nodes] = -1\n",
    "        legend = ['Isolated', 'Susceptible', 'Infected']\n",
    "    plt.subplot(3, 2, i)\n",
    "    nodes = nx.draw_networkx_nodes(G, pos, \n",
    "            node_size=400,\n",
    "            node_color=colors, \n",
    "            vmin=0, vmax=2, \n",
    "            cmap=plt.cm.rainbow,\n",
    "            edgecolors='black')\n",
    "    nx.draw_networkx_edges(G, pos,\n",
    "            width=0.5,\n",
    "            node_size=400)\n",
    "    nx.draw_networkx_labels(G, pos)\n",
    "    plt.title('Step {}'.format(i))\n",
    "    plt.legend(nodes.legend_elements()[0], legend)\n",
    "    plt.axis('off')\n",
    "    i += 1"
   ]
  },
  {
   "cell_type": "code",
   "execution_count": null,
   "metadata": {},
   "outputs": [],
   "source": [
    "plt.figure(figsize=(6*2, 4*2))\n",
    "plt.subplots_adjust(hspace=0.3)\n",
    "G = nx.barabasi_albert_graph(100, 2, seed=0)\n",
    "I = np.zeros(len(G))\n",
    "I[:20] = 1\n",
    "S = 1 - I\n",
    "i = 1\n",
    "for share in np.linspace(0, 1, 4):\n",
    "    plt.subplot(2, 2, i)\n",
    "    i += 1\n",
    "    immune, epidemic = self_isolation_sis(\n",
    "        G, S, I, share, period=40, beta=0.15, gamma=0.1, k=100)\n",
    "    plt.plot(epidemic.mean(axis=2))\n",
    "    plt.title(f\"SIS self-isolation with rate {share:.2f}\")\n",
    "    plt.legend(['S', 'I'])\n",
    "    plt.ylim(0, 1)"
   ]
  },
  {
   "cell_type": "markdown",
   "metadata": {},
   "source": [
    "Here we can see that high self-isolated rate of population delays a case when all people to be infected."
   ]
  },
  {
   "cell_type": "code",
   "execution_count": null,
   "metadata": {},
   "outputs": [],
   "source": [
    "plt.figure(figsize=(6*2, 4*2))\n",
    "plt.subplots_adjust(hspace=0.3)\n",
    "G = nx.barabasi_albert_graph(100, 2, seed=0)\n",
    "I = np.zeros(len(G))\n",
    "I[:20] = 1\n",
    "S = 1 - I\n",
    "i = 1\n",
    "for period in [0, 10, 50, 80]:\n",
    "    plt.subplot(2, 2, i)\n",
    "    i += 1\n",
    "    immune, epidemic = self_isolation_sis(\n",
    "        G, S, I, share=0.6, period=period, beta=0.15, gamma=0.1, k=100)\n",
    "    plt.plot(epidemic.mean(axis=2))\n",
    "    plt.title(f\"SIS self-isolation with period {period}\")\n",
    "    plt.legend(['S', 'I'])\n",
    "    plt.ylim(0, 1)"
   ]
  },
  {
   "cell_type": "code",
   "execution_count": null,
   "metadata": {},
   "outputs": [],
   "source": []
  }
 ],
 "metadata": {
  "kernelspec": {
   "display_name": "Python 3",
   "language": "python",
   "name": "python3"
  },
  "language_info": {
   "codemirror_mode": {
    "name": "ipython",
    "version": 3
   },
   "file_extension": ".py",
   "mimetype": "text/x-python",
   "name": "python",
   "nbconvert_exporter": "python",
   "pygments_lexer": "ipython3",
   "version": "3.7.4"
  }
 },
 "nbformat": 4,
 "nbformat_minor": 4
}

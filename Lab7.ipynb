{
 "cells": [
  {
   "cell_type": "markdown",
   "metadata": {},
   "source": [
    "# Assignment — Graph partitioning"
   ]
  },
  {
   "cell_type": "code",
   "execution_count": null,
   "metadata": {},
   "outputs": [],
   "source": [
    "from scipy.cluster.hierarchy import dendrogram, linkage\n",
    "import requests\n",
    "import numpy as np\n",
    "from sklearn.cluster import KMeans\n",
    "import networkx as nx\n",
    "from scipy.spatial.distance import squareform\n",
    "from sklearn import datasets\n",
    "import pandas as pd\n",
    "from zlib import adler32\n",
    "from sklearn.cluster import AgglomerativeClustering\n",
    "import matplotlib.pyplot as plt\n",
    "import seaborn as sns"
   ]
  },
  {
   "cell_type": "markdown",
   "metadata": {},
   "source": [
    "### Task 1. Eigenvalues of graph Laplacian (0 points)"
   ]
  },
  {
   "cell_type": "markdown",
   "metadata": {},
   "source": [
    "There are a few auxiliary methods for graph generation."
   ]
  },
  {
   "cell_type": "code",
   "execution_count": null,
   "metadata": {
    "deletable": false,
    "editable": false,
    "nbgrader": {
     "cell_type": "code",
     "checksum": "eb7b8364134cf37ea83a646413ede86b",
     "grade": false,
     "grade_id": "cell-61366d4f5cae4691",
     "locked": true,
     "schema_version": 3,
     "solution": false,
     "task": false
    }
   },
   "outputs": [],
   "source": [
    "def ring_lattice(n, k):\n",
    "    G = nx.Graph()\n",
    "    nodes = list(range(n))\n",
    "    for i in range(1, int(k/2 + 1)):\n",
    "        targets = nodes[i:] + nodes[:i]\n",
    "        G.add_edges_from(zip(nodes, targets))\n",
    "    return G"
   ]
  },
  {
   "cell_type": "code",
   "execution_count": null,
   "metadata": {
    "deletable": false,
    "editable": false,
    "nbgrader": {
     "cell_type": "code",
     "checksum": "4f817361f4028724aeb63ee45720b069",
     "grade": false,
     "grade_id": "cell-1ed7d5679e35118f",
     "locked": true,
     "schema_version": 3,
     "solution": false,
     "task": false
    }
   },
   "outputs": [],
   "source": [
    "def pair_graph(n):\n",
    "    G = nx.disjoint_union(nx.complete_graph(n), nx.complete_graph(n))\n",
    "    G.add_edge(0, n)\n",
    "    return G"
   ]
  },
  {
   "cell_type": "code",
   "execution_count": null,
   "metadata": {
    "deletable": false,
    "editable": false,
    "nbgrader": {
     "cell_type": "code",
     "checksum": "9ebc3e27a111b4c5dec8e08be526cb3d",
     "grade": false,
     "grade_id": "cell-c3199879fe237653",
     "locked": true,
     "schema_version": 3,
     "solution": false,
     "task": false
    }
   },
   "outputs": [],
   "source": [
    "def triple_graph(n):\n",
    "    G = nx.disjoint_union_all(\n",
    "        [nx.complete_graph(n), nx.complete_graph(n), nx.complete_graph(n)]\n",
    "    )\n",
    "    G.add_edge(0, n)\n",
    "    G.add_edge(n, n*2)\n",
    "    G.add_edge(n*2, 0)\n",
    "    return G"
   ]
  },
  {
   "cell_type": "markdown",
   "metadata": {},
   "source": [
    "Graph Laplacian is\n",
    "\n",
    "$$L = D - A$$\n",
    "\n",
    "where $A$ is an adjacency matrix and $D$ is a diagonal matrix with node degrees. Eigenvalues and eigenvectors of Laplacian can give us information about structure of a graph. Let us see a few simple examples.\n",
    "\n",
    "Write a function `eig_laplacian` that takes a graph and returns a tuple with 2 np.arrays: eigenvectors and eigenvalues of Laplacian. The both are ordered in ascending of eigenvalues. \n",
    "\n",
    "_Hints: any symmetric matrix has only real eigenvalues and eigenvectors. You can use `np.linalg.eigh` to calculate eigenvectors and eigenvalues in a symmetric matrix._"
   ]
  },
  {
   "cell_type": "code",
   "execution_count": null,
   "metadata": {
    "deletable": false,
    "nbgrader": {
     "cell_type": "code",
     "checksum": "a0c7c52f6045549d2bd274049aaf9804",
     "grade": false,
     "grade_id": "cell-75b0de6ccf68d1cf",
     "locked": false,
     "schema_version": 3,
     "solution": true,
     "task": false
    }
   },
   "outputs": [],
   "source": [
    "def eig_laplacian(G):\n",
    "    # YOUR CODE HERE\n",
    "    raise NotImplementedError()"
   ]
  },
  {
   "cell_type": "code",
   "execution_count": null,
   "metadata": {
    "deletable": false,
    "editable": false,
    "nbgrader": {
     "cell_type": "code",
     "checksum": "ae4d2ab77194a1d31d0e0ef1ba5dbfb6",
     "grade": true,
     "grade_id": "cell-fd03c70f09c2d656",
     "locked": true,
     "points": 0.0,
     "schema_version": 3,
     "solution": false,
     "task": false
    }
   },
   "outputs": [],
   "source": [
    "emptyG = nx.empty_graph(10)\n",
    "vecs, vals = eig_laplacian(emptyG)\n",
    "assert vecs.sum() == 10\n",
    "assert vals.sum() == 0\n",
    "oneedgeG = nx.empty_graph(10)\n",
    "oneedgeG.add_edge(0, 1)\n",
    "vecs, vals = eig_laplacian(oneedgeG)\n",
    "assert abs(vecs.round(4)[0, -1]) == abs(vecs.round(4)[1, -1]) == 0.7071\n",
    "assert vals[0] < vals[-1]\n",
    "vecs, vals = eig_laplacian(nx.complete_graph(10))\n",
    "assert (vals == vals.real).sum() == vals.shape[0]\n",
    "assert (vecs == vecs.real).sum() == vals.shape[0]**2\n",
    "vecs, vals = eig_laplacian(ring_lattice(10, 2))\n",
    "assert adler32(vals.round(4)[-1]) == 6815825\n",
    "assert adler32(vals.round(4)[-2]) == 393479360"
   ]
  },
  {
   "cell_type": "markdown",
   "metadata": {},
   "source": [
    "Consider some simple graphs and their Laplacian eigenvalues."
   ]
  },
  {
   "cell_type": "code",
   "execution_count": null,
   "metadata": {},
   "outputs": [],
   "source": [
    "cases = []\n",
    "cases.append([emptyG, 'Empty graph', nx.draw_circular])\n",
    "cases.append([nx.complete_graph(10), 'Complete graph', nx.draw_circular])\n",
    "cases.append([ring_lattice(10, 2), 'Ring lattice', nx.draw_circular])\n",
    "cases.append([oneedgeG, 'Single edge', nx.draw_circular])\n",
    "cases.append([pair_graph(5), 'Pair of complete graphs', nx.draw_kamada_kawai])\n",
    "cases.append([triple_graph(5), 'Triple of complete graphs', nx.draw_kamada_kawai])\n",
    "\n",
    "plt.figure(figsize=(5*2, 5*6))\n",
    "i = 1\n",
    "for iterG, title, designer in cases:\n",
    "    plt.subplot(6, 2, i)\n",
    "    i += 1\n",
    "    designer(iterG, \n",
    "             node_color='tab:cyan', \n",
    "             edgecolors='black', \n",
    "             node_size=100)\n",
    "    plt.title(title)\n",
    "    plt.subplot(6, 2, i)\n",
    "    i += 1\n",
    "    vecs, vals = eig_laplacian(iterG)\n",
    "    plt.scatter(np.arange(1, len(iterG) + 1), vals)\n",
    "    plt.grid()\n",
    "    plt.xticks(np.arange(1, len(iterG) + 1))\n",
    "    plt.title('Ordered Laplacian eigenvalues')"
   ]
  },
  {
   "cell_type": "markdown",
   "metadata": {},
   "source": [
    "We can observe that a number of zero eigenvalues is a number of connected component. $\\lambda_2 = n$ in a complete graph. Also, the largest gap between eigenvalues indicates an optimal number of clusters. For example, the largest gap in a complete graph is between 1 and 2, then an optimal number of clusters is 1. Similarly, 2-3 gap is related to a pair graph, and 3-4 gap is related to a triple graph."
   ]
  },
  {
   "cell_type": "markdown",
   "metadata": {},
   "source": [
    "### Task 2. Spectral partitioning (0 points)"
   ]
  },
  {
   "cell_type": "markdown",
   "metadata": {},
   "source": [
    "Spectral clustering is a very powerful algorithm for community detection that minimize graph cuts. It is based on Laplacian eigenvectors, in particular a sign of the second smallest eigenvector determines the partition of a graph into two clusters. Consider the following artificial dataset."
   ]
  },
  {
   "cell_type": "code",
   "execution_count": null,
   "metadata": {},
   "outputs": [],
   "source": [
    "circles, truth_labels = datasets.make_circles(n_samples=300, factor=0.6, \n",
    "                                              noise=0.05, random_state=0)\n",
    "plt.figure(figsize=(6, 6))\n",
    "plt.scatter(circles[:, 0], circles[:, 1])\n",
    "plt.show()"
   ]
  },
  {
   "cell_type": "markdown",
   "metadata": {},
   "source": [
    "Let us isolate data points in center circle using spectral clustering. Any distance based dataset can be represented as a graph with edges between neighbors.\n",
    "\n",
    "Write a function `custom_graph` that takes a np.array with x-y data points and returns a connected graph. \n",
    "\n",
    "_Hint: try to apply `sklearn.neighbors.kneighbors_graph`._\n",
    "\n",
    "_Remark: you can introduce your own distance_"
   ]
  },
  {
   "cell_type": "code",
   "execution_count": null,
   "metadata": {
    "deletable": false,
    "nbgrader": {
     "cell_type": "code",
     "checksum": "49e30600afef1d7ade56b47134b59326",
     "grade": false,
     "grade_id": "cell-d40266c883f9c15b",
     "locked": false,
     "schema_version": 3,
     "solution": true,
     "task": false
    }
   },
   "outputs": [],
   "source": [
    "def custom_graph(data):\n",
    "    # YOUR CODE HERE\n",
    "    raise NotImplementedError()"
   ]
  },
  {
   "cell_type": "code",
   "execution_count": null,
   "metadata": {
    "deletable": false,
    "editable": false,
    "nbgrader": {
     "cell_type": "code",
     "checksum": "1ebc6b0fe9f62a6bd4defcbff26930aa",
     "grade": true,
     "grade_id": "cell-64aedbe28b2b9b7d",
     "locked": true,
     "points": 0.0,
     "schema_version": 3,
     "solution": false,
     "task": false
    }
   },
   "outputs": [],
   "source": [
    "circles, truth_labels = datasets.make_circles(n_samples=300, factor=0.6, \n",
    "                                              noise=0.05, random_state=0)\n",
    "circlesG = custom_graph(circles)\n",
    "assert circlesG.number_of_nodes() == 300\n",
    "assert nx.is_connected(circlesG)"
   ]
  },
  {
   "cell_type": "markdown",
   "metadata": {},
   "source": [
    "Let us draw values in second smallest eigenvector of Laplacian."
   ]
  },
  {
   "cell_type": "code",
   "execution_count": null,
   "metadata": {},
   "outputs": [],
   "source": [
    "vecs, vals = eig_laplacian(circlesG)\n",
    "\n",
    "plt.figure(figsize=(8, 5))\n",
    "plt.scatter(np.arange(300), vecs[:, 1], s=10)\n",
    "plt.title('Second smallest eigenvector')\n",
    "plt.xlabel('Data point')\n",
    "plt.ylabel('Value')\n",
    "plt.grid()\n",
    "plt.show()"
   ]
  },
  {
   "cell_type": "markdown",
   "metadata": {},
   "source": [
    "Next, write a function `spectral_two_clusters` that takes np.array with ordered eigenvectors and returns np.array with labels of nodes."
   ]
  },
  {
   "cell_type": "code",
   "execution_count": null,
   "metadata": {
    "deletable": false,
    "nbgrader": {
     "cell_type": "code",
     "checksum": "d0bcce8de4c76511ba5efaf656dd6533",
     "grade": false,
     "grade_id": "cell-ca439ffb4eb0df3c",
     "locked": false,
     "schema_version": 3,
     "solution": true,
     "task": false
    }
   },
   "outputs": [],
   "source": [
    "def spectral_two_clusters(vecs):\n",
    "    # YOUR CODE HERE\n",
    "    raise NotImplementedError()"
   ]
  },
  {
   "cell_type": "code",
   "execution_count": null,
   "metadata": {
    "deletable": false,
    "editable": false,
    "nbgrader": {
     "cell_type": "code",
     "checksum": "cca3d56c170cd90aaa2c4a8e2af204dd",
     "grade": true,
     "grade_id": "cell-6b01f513f5380c76",
     "locked": true,
     "points": 0.0,
     "schema_version": 3,
     "solution": false,
     "task": false
    }
   },
   "outputs": [],
   "source": [
    "circles, truth_labels = datasets.make_circles(n_samples=300, factor=0.6, \n",
    "                                              noise=0.05, random_state=0)\n",
    "circlesG = custom_graph(circles)\n",
    "vecs, vals = eig_laplacian(circlesG)\n",
    "labels = spectral_two_clusters(vecs)\n",
    "\n",
    "assert abs(np.corrcoef(truth_labels, labels)[0, 1]) > 0.95\n",
    "\n",
    "plt.figure(figsize=(6, 6))\n",
    "plt.scatter(circles[:, 0], circles[:, 1], c=labels)\n",
    "plt.title('Correlation: {:.2f}'.format(abs(np.corrcoef(truth_labels, labels)[0, 1])))\n",
    "plt.show()"
   ]
  },
  {
   "cell_type": "markdown",
   "metadata": {},
   "source": [
    "_Remark: there are two directions of graph construction: selection pairs of nodes to connect to each other, and choosing the weights of created edges. Set `factor=0.7` in `datasets.make_circles` and test yourself — try to achive 0.9 correlation. Combine `sklearn.neighbors.kneighbors_graph` with `scipy.spatial.distance_matrix` or `sklearn.metrics.pairwise.rbf_kernel`. Details are [here](http://www2.imm.dtu.dk/projects/manifold/Papers/Laplacian.pdf)._"
   ]
  },
  {
   "cell_type": "markdown",
   "metadata": {},
   "source": [
    "### Les Miserables graph"
   ]
  },
  {
   "cell_type": "markdown",
   "metadata": {},
   "source": [
    "Let us try to detect communities in Les Miserables graph."
   ]
  },
  {
   "cell_type": "code",
   "execution_count": null,
   "metadata": {},
   "outputs": [],
   "source": [
    "lesG = nx.Graph(nx.les_miserables_graph().edges)\n",
    "lesG = nx.convert_node_labels_to_integers(lesG)\n",
    "lespos = nx.kamada_kawai_layout(lesG)\n",
    "plt.figure(figsize=(8, 8))\n",
    "nx.draw_networkx_nodes(lesG, lespos, node_color='white', edgecolors='black', node_size=100)\n",
    "nx.draw_networkx_edges(lesG, lespos, alpha=0.3)\n",
    "plt.axis('off')\n",
    "plt.show()"
   ]
  },
  {
   "cell_type": "markdown",
   "metadata": {},
   "source": [
    "### Task 3. Laplacian eigenmaps (3 points)"
   ]
  },
  {
   "cell_type": "markdown",
   "metadata": {},
   "source": [
    "In the previous task, we saw how to split a graph into two parts. Let us consider a way to get more parts in the following graph."
   ]
  },
  {
   "cell_type": "code",
   "execution_count": null,
   "metadata": {},
   "outputs": [],
   "source": [
    "quadG = nx.disjoint_union_all([nx.complete_graph(5), \n",
    "                               nx.complete_graph(5),\n",
    "                               nx.complete_graph(5),\n",
    "                               nx.complete_graph(5)])\n",
    "quadG.add_edge(0, 5)\n",
    "quadG.add_edge(6, 10)\n",
    "quadG.add_edge(11, 16)\n",
    "quadG.add_edge(17, 1)\n",
    "\n",
    "plt.figure(figsize=(5, 5))\n",
    "nx.draw_kamada_kawai(\n",
    "    quadG, \n",
    "    node_color='white', \n",
    "    edgecolors='black', \n",
    "    node_size=100)"
   ]
  },
  {
   "cell_type": "markdown",
   "metadata": {},
   "source": [
    "Further splitting can be performed by different approaches. For example, we can repeat the clustering procedure on the both subgraphs separetely and choose a minimal graph cut and then repeat it again. Another way is to get Laplacian Eigenmaps and then apply KMeans. Let us consider how it works.\n",
    "\n",
    "1. Compute _normalized_ Laplacian\n",
    "$$L = D^{-1/2}(D - A)D^{-1/2}$$\n",
    "2. Find the $K$ smallest eigenvectors (excluding the smallest)\n",
    "3. Form the Laplacian eigenmaps — a matrix where columns are eigenvectors, rows are node embeddings\n",
    "4. Put eigenmaps into KMeans\n",
    "5. Label nodes by fitted KMeans"
   ]
  },
  {
   "cell_type": "markdown",
   "metadata": {},
   "source": [
    "Write a function `norm_laplacian` that takes an adjacency matrix `A` and returns a normalized Laplacian."
   ]
  },
  {
   "cell_type": "code",
   "execution_count": null,
   "metadata": {
    "deletable": false,
    "nbgrader": {
     "cell_type": "code",
     "checksum": "8860c72d586b216b03d2028588fef600",
     "grade": false,
     "grade_id": "cell-835877a10376c87b",
     "locked": false,
     "schema_version": 3,
     "solution": true,
     "task": false
    }
   },
   "outputs": [],
   "source": [
    "def norm_laplacian(A):\n",
    "    # YOUR CODE HERE\n",
    "    raise NotImplementedError()"
   ]
  },
  {
   "cell_type": "code",
   "execution_count": null,
   "metadata": {
    "deletable": false,
    "editable": false,
    "nbgrader": {
     "cell_type": "code",
     "checksum": "a4a47b8e21475d182086ed8b668f2c71",
     "grade": true,
     "grade_id": "cell-0cf12928f9a5a348",
     "locked": true,
     "points": 1.0,
     "schema_version": 3,
     "solution": false,
     "task": false
    }
   },
   "outputs": [],
   "source": [
    "A = nx.to_numpy_array(quadG)\n",
    "L = norm_laplacian(A)\n",
    "assert L.shape == (20, 20)\n",
    "assert np.diagonal(L).sum() == 20\n",
    "assert round(L[:, 2].sum(), 4) == 0.0528"
   ]
  },
  {
   "cell_type": "markdown",
   "metadata": {},
   "source": [
    "Write a function `spectral_embedding` that takes np.array with normalized Laplacian and returns np.array with Laplacian Eigenmaps. `n_components` is a number of vectors of the output."
   ]
  },
  {
   "cell_type": "code",
   "execution_count": null,
   "metadata": {
    "deletable": false,
    "nbgrader": {
     "cell_type": "code",
     "checksum": "0dbf85236ad6630f0982db80b54a801b",
     "grade": false,
     "grade_id": "cell-3ff904d602d33bc1",
     "locked": false,
     "schema_version": 3,
     "solution": true,
     "task": false
    }
   },
   "outputs": [],
   "source": [
    "def spectral_embedding(L, n_components):\n",
    "    # YOUR CODE HERE\n",
    "    raise NotImplementedError()"
   ]
  },
  {
   "cell_type": "code",
   "execution_count": null,
   "metadata": {
    "deletable": false,
    "editable": false,
    "nbgrader": {
     "cell_type": "code",
     "checksum": "5ec7795afc277f9fcc3d92af96d25e97",
     "grade": true,
     "grade_id": "cell-798cee725cdd54c1",
     "locked": true,
     "points": 1.0,
     "schema_version": 3,
     "solution": false,
     "task": false
    }
   },
   "outputs": [],
   "source": [
    "embedding = spectral_embedding(L, 3)\n",
    "assert embedding.shape == (20, 3)\n",
    "assert embedding[:, 0].max() > 0\n",
    "assert embedding[:, 0].min() < 0\n",
    "assert embedding[:, 1].max() > 0\n",
    "assert embedding[:, 1].min() < 0\n",
    "assert (embedding[:, 0] > 0).sum() == 10\n",
    "assert (embedding[:, 1] > 0).sum() == 10\n",
    "assert (embedding[:, 2] > 0).sum() == 10"
   ]
  },
  {
   "cell_type": "markdown",
   "metadata": {},
   "source": [
    "Let us look at a pairplot of the spectral embedding."
   ]
  },
  {
   "cell_type": "code",
   "execution_count": null,
   "metadata": {
    "deletable": false,
    "editable": false,
    "nbgrader": {
     "cell_type": "code",
     "checksum": "d7b3c385ff4dec38c12a3e970a3c5f54",
     "grade": false,
     "grade_id": "cell-682a760a2b70452c",
     "locked": true,
     "schema_version": 3,
     "solution": false,
     "task": false
    }
   },
   "outputs": [],
   "source": [
    "def spectral_clustering(G, n_clusters, n_components):\n",
    "    A = nx.to_numpy_array(G)\n",
    "    L = norm_laplacian(A)\n",
    "    embedding = spectral_embedding(L, n_components)\n",
    "    kmeans = KMeans(n_clusters=n_clusters)\n",
    "    kmeans.fit(embedding)\n",
    "    return kmeans.labels_"
   ]
  },
  {
   "cell_type": "code",
   "execution_count": null,
   "metadata": {
    "deletable": false,
    "editable": false,
    "nbgrader": {
     "cell_type": "code",
     "checksum": "bda74a20eb0b9572ed411e468e921394",
     "grade": true,
     "grade_id": "cell-0a5e4e1e0ff1e71b",
     "locked": true,
     "points": 1.0,
     "schema_version": 3,
     "solution": false,
     "task": false
    }
   },
   "outputs": [],
   "source": [
    "embedding = spectral_embedding(L, 3)\n",
    "labels = spectral_clustering(quadG, 4, 3)\n",
    "assert np.all(labels[:5] == labels[0])\n",
    "assert np.all(labels[5:10] == labels[5])\n",
    "assert np.all(labels[10:15] == labels[10])\n",
    "assert np.all(labels[15:20] == labels[15])"
   ]
  },
  {
   "cell_type": "code",
   "execution_count": null,
   "metadata": {},
   "outputs": [],
   "source": [
    "embedding = spectral_embedding(L, 3)\n",
    "labels = spectral_clustering(quadG, 4, 3)\n",
    "pair_data = pd.DataFrame(\n",
    "    np.hstack([embedding, labels[:, None]]), \n",
    "    columns=['x2', 'x3', 'x4', 'label'])\n",
    "pair_data.label = pair_data.label.astype('str')\n",
    "p = sns.pairplot(\n",
    "    pair_data,\n",
    "    hue='label',\n",
    "    diag_kind=None\n",
    ")\n",
    "p._legend.remove()\n",
    "plt.show()"
   ]
  },
  {
   "cell_type": "markdown",
   "metadata": {},
   "source": [
    "We can see four distinct clusters in the plots, that is why we use KMeans, but other clustering algorithms can also be applied here."
   ]
  },
  {
   "cell_type": "code",
   "execution_count": null,
   "metadata": {},
   "outputs": [],
   "source": [
    "plt.figure(figsize=(5, 5))\n",
    "nx.draw_kamada_kawai(\n",
    "    quadG, \n",
    "    cmap=plt.cm.rainbow,\n",
    "    node_color=labels, \n",
    "    edgecolors='black', \n",
    "    node_size=100)"
   ]
  },
  {
   "cell_type": "markdown",
   "metadata": {},
   "source": [
    "Finally, let us see how spectral clustering works on the Les Miserables graph."
   ]
  },
  {
   "cell_type": "code",
   "execution_count": null,
   "metadata": {},
   "outputs": [],
   "source": [
    "plt.figure(figsize=(8, 8))\n",
    "nodes = nx.draw_networkx_nodes(\n",
    "    lesG, \n",
    "    lespos,\n",
    "    cmap=plt.cm.rainbow,\n",
    "    node_color=spectral_clustering(lesG, 6, 5), \n",
    "    node_size=100, \n",
    "    linewidths=1, \n",
    "    edgecolors='black'\n",
    ")\n",
    "nx.draw_networkx_edges(\n",
    "    lesG,\n",
    "    lespos,\n",
    "    alpha=0.2,\n",
    "    edge_color='black'\n",
    ")\n",
    "plt.axis('off')\n",
    "plt.legend(*nodes.legend_elements())\n",
    "plt.show()"
   ]
  },
  {
   "cell_type": "markdown",
   "metadata": {},
   "source": [
    "### Task 4. K-core decomposition (2 points)"
   ]
  },
  {
   "cell_type": "markdown",
   "metadata": {},
   "source": [
    "Let us apply k-core decomposition from networkx. Use `nx.core_number` and colorize every node by its k-shell.\n",
    "\n",
    "Write a function `k_core_decompose` that takes a graph `G` and returns a np.array with k of node's k-shell. For example, if there are node 1, 2, 3, 4 and nodes 1 is in 1-shell, nodes 2, 3, 4 are in 2-shell, then the output will be [1, 2, 2, 2]."
   ]
  },
  {
   "cell_type": "code",
   "execution_count": null,
   "metadata": {
    "deletable": false,
    "nbgrader": {
     "cell_type": "code",
     "checksum": "ce7d9ffef4e3f46acabf5797209b3c95",
     "grade": false,
     "grade_id": "cell-6bc37c9006da13f3",
     "locked": false,
     "schema_version": 3,
     "solution": true,
     "task": false
    }
   },
   "outputs": [],
   "source": [
    "def k_core_decompose(G):\n",
    "    # YOUR CODE HERE\n",
    "    raise NotImplementedError()"
   ]
  },
  {
   "cell_type": "code",
   "execution_count": null,
   "metadata": {
    "deletable": false,
    "editable": false,
    "nbgrader": {
     "cell_type": "code",
     "checksum": "771753c3ef1356d820941aa7d069be5d",
     "grade": true,
     "grade_id": "cell-b9a3011eade1d46f",
     "locked": true,
     "points": 2.0,
     "schema_version": 3,
     "solution": false,
     "task": false
    }
   },
   "outputs": [],
   "source": [
    "labels = k_core_decompose(lesG)\n",
    "assert labels.shape == (77,)\n",
    "assert labels.min() == 1\n",
    "assert labels.max() == 9\n",
    "assert labels[10] == 8\n",
    "assert labels[65] == 9"
   ]
  },
  {
   "cell_type": "markdown",
   "metadata": {},
   "source": [
    "Let us draw k-shells of the graph in some k-cores."
   ]
  },
  {
   "cell_type": "code",
   "execution_count": null,
   "metadata": {},
   "outputs": [],
   "source": [
    "plt.figure(figsize=(8*2, 8*4))\n",
    "\n",
    "x_max, y_max = np.array(list(lespos.values())).max(axis=0)\n",
    "x_min, y_min = np.array(list(lespos.values())).min(axis=0)\n",
    "\n",
    "for i in range(8):\n",
    "    plt.subplot(4, 2, i+1)\n",
    "    subG = nx.k_core(lesG, i+1)\n",
    "    nodes = nx.draw_networkx_nodes(\n",
    "        subG, \n",
    "        lespos,\n",
    "        cmap=plt.cm.OrRd,\n",
    "        node_color=k_core_decompose(subG), \n",
    "        node_size=100, \n",
    "        edgecolors='black'\n",
    "    )\n",
    "    nx.draw_networkx_edges(\n",
    "        subG, \n",
    "        lespos,\n",
    "        alpha=0.3,\n",
    "        width=1, \n",
    "        edge_color='black'\n",
    "    )\n",
    "    eps = (x_max - x_min) * 0.05\n",
    "    plt.xlim(x_min-eps, x_max+eps)\n",
    "    plt.ylim(y_min-eps, y_max+eps)\n",
    "    plt.legend(*nodes.legend_elements())\n",
    "    plt.axis('off')\n",
    "    plt.title('k-shells on {}-core'.format(i+1))"
   ]
  },
  {
   "cell_type": "markdown",
   "metadata": {},
   "source": [
    "### Task 5. Clique detection (2 points)"
   ]
  },
  {
   "cell_type": "markdown",
   "metadata": {},
   "source": [
    "Cluque is a complete subgraph — a simple model of a community. Find the largest cliques in the graph by `nx.find_cliques` and visualize them.\n",
    "\n",
    "Write a function `largest_cliques` that takes a graph and finds the largest cliques of the same size and collect colors and widths by the following rule: all nodes are white except of nodes in the largest cluque, all edges are thin (adjust as you like) except of edges within cliques. The function returns a tuple with 2 np.arrays: \n",
    "* rgb np.array has a shape [n, m, 3] where n is a number of cliques, m is a number of nodes, 3 (r, g, b) is a number of values in the interval [0, 1]. \n",
    "* width np.array has a shape [n, k] where n is a number of cliques, k is a number of edges. \n",
    "\n",
    "Colors are ordered by `G.nodes`, widths are ordered by `G.edges`."
   ]
  },
  {
   "cell_type": "code",
   "execution_count": null,
   "metadata": {
    "deletable": false,
    "nbgrader": {
     "cell_type": "code",
     "checksum": "f5a7d12b51d06a80d4e6effa2b653442",
     "grade": false,
     "grade_id": "cell-7438d91011ca0bb2",
     "locked": false,
     "schema_version": 3,
     "solution": true,
     "task": false
    }
   },
   "outputs": [],
   "source": [
    "def largest_cliques(G):\n",
    "    # YOUR CODE HERE\n",
    "    raise NotImplementedError()"
   ]
  },
  {
   "cell_type": "code",
   "execution_count": null,
   "metadata": {
    "deletable": false,
    "editable": false,
    "nbgrader": {
     "cell_type": "code",
     "checksum": "650c51c24ec9350853427ef51160d99d",
     "grade": true,
     "grade_id": "cell-e868f18abe64ef06",
     "locked": true,
     "points": 2.0,
     "schema_version": 3,
     "solution": false,
     "task": false
    }
   },
   "outputs": [],
   "source": [
    "colors, widths = largest_cliques(lesG)\n",
    "assert colors.shape == (2, 77, 3)\n",
    "size = np.unique(colors[0], axis=0, return_counts=True)[1][0]\n",
    "assert size == 10\n",
    "assert np.unique(colors[1], axis=0, return_counts=True)[1][0] == 10\n",
    "assert ((colors.sum(axis=2) < 3)[0] & (colors.sum(axis=2) < 3)[1]).sum() == 8\n",
    "assert widths.shape == (2, 254)\n",
    "assert np.unique(widths[0], axis=0, return_counts=True)[1][1] == 45\n",
    "assert np.unique(widths[1], axis=0, return_counts=True)[1][1] == 45\n",
    "assert ((widths == widths.min())[0] & (widths == widths.min())[1]).sum() == 192"
   ]
  },
  {
   "cell_type": "markdown",
   "metadata": {},
   "source": [
    "Let us draw a few examples of found cliques."
   ]
  },
  {
   "cell_type": "code",
   "execution_count": null,
   "metadata": {},
   "outputs": [],
   "source": [
    "plt.figure(figsize=(8*2, 8))\n",
    "\n",
    "for i in range(colors.shape[0]):\n",
    "    \n",
    "    b_edges = np.array(list(lesG.edges))[widths[i] == widths[i].max()]\n",
    "    \n",
    "    plt.subplot(1, 2, i+1)\n",
    "    nodes = nx.draw_networkx_nodes(\n",
    "        lesG, \n",
    "        lespos,\n",
    "        node_color=colors[i], \n",
    "        node_size=100, \n",
    "        linewidths=1, \n",
    "        edgecolors='black'\n",
    "    )\n",
    "    nx.draw_networkx_edges(\n",
    "        lesG,\n",
    "        lespos,\n",
    "        alpha=0.3,\n",
    "        width=widths[i].min()\n",
    "    )\n",
    "    nx.draw_networkx_edges(\n",
    "        lesG,\n",
    "        lespos,\n",
    "        width=widths[i].max(),\n",
    "        edgelist=b_edges\n",
    "    )\n",
    "    plt.title('Clique of the size {}'.format(size))\n",
    "    plt.axis('off')"
   ]
  },
  {
   "cell_type": "markdown",
   "metadata": {},
   "source": [
    "### Task 6. Agglomerative clustering (3 points)"
   ]
  },
  {
   "cell_type": "markdown",
   "metadata": {},
   "source": [
    "Agglomerative clustering is an iterative procedure that unions similar clusters using a similarity matrix, but since we will run `sklearn.cluster.AgglomerativeClustering`, we need to pass a _distance_ matrix. So, first we need to choose a similarity measure and then convert it into a distance. Let us do it via SimRank measure that is defined as follows: _two objects are considered to be similar if they are referenced by similar objects_. Since SimRank takes values on the interval [0, 1], let us define a distance as\n",
    "\n",
    "$$\\text{Distance}= 1 - \\text{SimRank}$$\n",
    "\n",
    "Write a function `simrank_distance` that takes a graph and returns a distance matrix based on SimRank. Use `nx.simrank_similarity`. The distance matrix should be _absolutely_ symmetric."
   ]
  },
  {
   "cell_type": "code",
   "execution_count": null,
   "metadata": {
    "deletable": false,
    "nbgrader": {
     "cell_type": "code",
     "checksum": "9a7a5a98d72e0f7fe6dd9abfb69ca828",
     "grade": false,
     "grade_id": "cell-3e562ed2f306eb66",
     "locked": false,
     "schema_version": 3,
     "solution": true,
     "task": false
    }
   },
   "outputs": [],
   "source": [
    "def simrank_distance(G):\n",
    "    # YOUR CODE HERE\n",
    "    raise NotImplementedError()"
   ]
  },
  {
   "cell_type": "code",
   "execution_count": null,
   "metadata": {
    "deletable": false,
    "editable": false,
    "nbgrader": {
     "cell_type": "code",
     "checksum": "d4e05de4d565ba7e6eea2304a8b32c50",
     "grade": true,
     "grade_id": "cell-48d3f5c5f233d84c",
     "locked": true,
     "points": 1.5,
     "schema_version": 3,
     "solution": false,
     "task": false
    }
   },
   "outputs": [],
   "source": [
    "distance = simrank_distance(lesG)\n",
    "assert distance.shape == (77, 77)\n",
    "assert np.diagonal(distance).sum() == 0\n",
    "assert np.allclose(distance, distance.T, rtol=0, atol=0)\n",
    "assert distance[52, 68] <= distance[1, 19]\n",
    "assert distance[45, 29] <= distance[38, 46]"
   ]
  },
  {
   "cell_type": "markdown",
   "metadata": {},
   "source": [
    "Then let us cluster nodes using `scipy.cluster.hierarchy.linkage`. The method takes distancies and returns a linkage matrix `Z` where every i-th row consists of\n",
    "* `Z[i, 0]` and `Z[i, 1]` are indexes of combined clusters\n",
    "* `Z[i, 2]` is the distance between combined clusters\n",
    "* `Z[i, 3]` is the number of observations in combined clusters\n",
    "\n",
    "Cluster with an index `n+i` is described in a i-th row of the matrix `Z`. Clusters with indexes less than `n+1` are initial nodes. The method `scipy.cluster.hierarchy.dendrogram` uses the matrix `Z` to plot a dendrogram. Let us look at a dendrogram of Les Miserables graph."
   ]
  },
  {
   "cell_type": "code",
   "execution_count": null,
   "metadata": {},
   "outputs": [],
   "source": [
    "plt.figure(figsize=(16, 6))\n",
    "linked = linkage(squareform(distance), 'complete')\n",
    "dendrogram(linked, labels=list(lesG.nodes), \n",
    "           leaf_font_size=12)\n",
    "plt.plot([0, 800], [0.89, 0.89], linestyle='--', c='tab:red')\n",
    "plt.show()"
   ]
  },
  {
   "cell_type": "markdown",
   "metadata": {},
   "source": [
    "Then we need to select a horizontal line that gives us a partitioning of the graph. There are two approaches: select the number of clusters, and select the maximal distance between clusters. For example, if we select a horicontal line with maximal distance 0.89 (a red line on the plot) then the number of clusters will be 4.\n",
    "\n",
    "Write a function `agglomerative_clustering` that takes a distance matrix, maximal distance between clusters and returns an np.array with labels of clusters. Use `sklearn.cluster.AgglomerativeClustering` with complete linkage."
   ]
  },
  {
   "cell_type": "code",
   "execution_count": null,
   "metadata": {
    "deletable": false,
    "nbgrader": {
     "cell_type": "code",
     "checksum": "73dbc85d495a7b32523d7cc53961a725",
     "grade": false,
     "grade_id": "cell-0e16f6f2d6e0fbbf",
     "locked": false,
     "schema_version": 3,
     "solution": true,
     "task": false
    }
   },
   "outputs": [],
   "source": [
    "def agglomerative_clustering(distance, max_distance):\n",
    "    # YOUR CODE HERE\n",
    "    raise NotImplementedError()"
   ]
  },
  {
   "cell_type": "code",
   "execution_count": null,
   "metadata": {
    "deletable": false,
    "editable": false,
    "nbgrader": {
     "cell_type": "code",
     "checksum": "1d5510079ba92704481d3e4e629e2e51",
     "grade": true,
     "grade_id": "cell-a35a60118c1e0e83",
     "locked": true,
     "points": 1.5,
     "schema_version": 3,
     "solution": false,
     "task": false
    }
   },
   "outputs": [],
   "source": [
    "assert len(set(agglomerative_clustering(distance, 0.8))) == 17\n",
    "assert len(set(agglomerative_clustering(distance, 0.89))) == 4"
   ]
  },
  {
   "cell_type": "markdown",
   "metadata": {},
   "source": [
    "On the graph with maximal distance 0.87"
   ]
  },
  {
   "cell_type": "code",
   "execution_count": null,
   "metadata": {},
   "outputs": [],
   "source": [
    "labels = agglomerative_clustering(distance, 0.87)\n",
    "plt.figure(figsize=(8, 8))\n",
    "nx.draw_networkx_nodes(\n",
    "    lesG, \n",
    "    lespos,\n",
    "    cmap=plt.cm.rainbow,\n",
    "    node_color=labels, \n",
    "    node_size=100, \n",
    "    linewidths=1, \n",
    "    edgecolors='black'\n",
    ")\n",
    "nx.draw_networkx_edges(\n",
    "    lesG,\n",
    "    lespos,\n",
    "    alpha=0.2,\n",
    "    edge_color='black'\n",
    ")\n",
    "plt.axis('off')\n",
    "plt.show()"
   ]
  },
  {
   "cell_type": "code",
   "execution_count": null,
   "metadata": {},
   "outputs": [],
   "source": []
  }
 ],
 "metadata": {
  "kernelspec": {
   "display_name": "Python 3",
   "language": "python",
   "name": "python3"
  },
  "language_info": {
   "codemirror_mode": {
    "name": "ipython",
    "version": 3
   },
   "file_extension": ".py",
   "mimetype": "text/x-python",
   "name": "python",
   "nbconvert_exporter": "python",
   "pygments_lexer": "ipython3",
   "version": "3.7.4"
  }
 },
 "nbformat": 4,
 "nbformat_minor": 4
}

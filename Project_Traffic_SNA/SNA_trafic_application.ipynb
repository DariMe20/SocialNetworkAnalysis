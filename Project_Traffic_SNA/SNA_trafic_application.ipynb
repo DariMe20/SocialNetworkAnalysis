{
 "cells": [
  {
   "cell_type": "markdown",
   "id": "0cfbed46",
   "metadata": {},
   "source": [
    "# Analyzing Urban Traffic Networks: Centrality and Congestion in Real Road Graphs"
   ]
  }
 ],
 "metadata": {
  "language_info": {
   "name": "python"
  }
 },
 "nbformat": 4,
 "nbformat_minor": 5
}
